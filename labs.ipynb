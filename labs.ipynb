{
 "cells": [
  {
   "cell_type": "markdown",
   "id": "ac80ccc1-611e-496c-bec3-37d9f58ef2fa",
   "metadata": {},
   "source": [
    "## New Line\n",
    "For demonstration schedule"
   ]
  },
  {
   "cell_type": "code",
   "execution_count": null,
   "id": "459f24fa-1cb3-45e3-beb1-c29cce0fb0f7",
   "metadata": {},
   "outputs": [],
   "source": []
  }
 ],
 "metadata": {
  "kernelspec": {
   "display_name": "Python",
   "language": "python",
   "name": "conda-env-python-py"
  },
  "language_info": {
   "codemirror_mode": {
    "name": "ipython",
    "version": 3
   },
   "file_extension": ".py",
   "mimetype": "text/x-python",
   "name": "python",
   "nbconvert_exporter": "python",
   "pygments_lexer": "ipython3",
   "version": "3.7.12"
  }
 },
 "nbformat": 4,
 "nbformat_minor": 5
}
